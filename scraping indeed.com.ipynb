{
 "cells": [
  {
   "cell_type": "markdown",
   "metadata": {},
   "source": [
    "# Import libraries"
   ]
  },
  {
   "cell_type": "code",
   "execution_count": null,
   "metadata": {},
   "outputs": [],
   "source": [
    "import csv\n",
    "from datetime import datetime\n",
    "import requests\n",
    "from bs4 import BeautifulSoup"
   ]
  },
  {
   "cell_type": "code",
   "execution_count": null,
   "metadata": {},
   "outputs": [],
   "source": [
    "# generates indeed url for specific job title and location\n",
    "def get_url(position,location):\n",
    "    template = 'https://in.indeed.com/jobs?q={}&l={}'\n",
    "    url = template.format(position,location)\n",
    "    return url"
   ]
  },
  {
   "cell_type": "code",
   "execution_count": null,
   "metadata": {},
   "outputs": [],
   "source": [
    "url = get_url('python','India')"
   ]
  },
  {
   "cell_type": "markdown",
   "metadata": {},
   "source": [
    "# Extract raw html"
   ]
  },
  {
   "cell_type": "code",
   "execution_count": null,
   "metadata": {},
   "outputs": [],
   "source": [
    "response = requests.get(url)\n",
    "response"
   ]
  },
  {
   "cell_type": "code",
   "execution_count": null,
   "metadata": {},
   "outputs": [],
   "source": [
    "soup = BeautifulSoup(response.text,'html.parser')"
   ]
  },
  {
   "cell_type": "code",
   "execution_count": null,
   "metadata": {},
   "outputs": [],
   "source": [
    "cards = soup.find_all('div','jobsearch-SerpJobCard')"
   ]
  },
  {
   "cell_type": "code",
   "execution_count": null,
   "metadata": {},
   "outputs": [],
   "source": [
    "len(cards)"
   ]
  },
  {
   "cell_type": "markdown",
   "metadata": {},
   "source": [
    "# Prototype the model with a single record"
   ]
  },
  {
   "cell_type": "code",
   "execution_count": null,
   "metadata": {},
   "outputs": [],
   "source": [
    "card = cards[0] # single card"
   ]
  },
  {
   "cell_type": "code",
   "execution_count": null,
   "metadata": {},
   "outputs": [],
   "source": [
    "# get job title\n",
    "atag = card.h2.a\n",
    "job_title = atag.get('title')\n"
   ]
  },
  {
   "cell_type": "code",
   "execution_count": null,
   "metadata": {},
   "outputs": [],
   "source": [
    "# get job url\n",
    "job_url = 'https://www.indeed.com'+atag.get('href')\n"
   ]
  },
  {
   "cell_type": "code",
   "execution_count": null,
   "metadata": {},
   "outputs": [],
   "source": [
    "# company name\n",
    "company_name = card.find('span',{'class':'company'}).text.strip()\n",
    "company_name"
   ]
  },
  {
   "cell_type": "code",
   "execution_count": null,
   "metadata": {},
   "outputs": [],
   "source": [
    "# location\n",
    "location = card.find('div','location').text\n",
    "location"
   ]
  },
  {
   "cell_type": "code",
   "execution_count": null,
   "metadata": {},
   "outputs": [],
   "source": [
    "# get salary, not all jobs prefer to put salary therefore we are using try/except\n",
    "try:\n",
    "    salary_range = card.find('span','salaryText').text.strip()\n",
    "except AttributeError:\n",
    "    salary_range = ''\n",
    "salary_range"
   ]
  },
  {
   "cell_type": "code",
   "execution_count": null,
   "metadata": {},
   "outputs": [],
   "source": [
    "# job summary\n",
    "job_summary = card.find('div','summary').text.strip()\n",
    "job_summary"
   ]
  },
  {
   "cell_type": "code",
   "execution_count": null,
   "metadata": {},
   "outputs": [],
   "source": [
    "post_date = card.find('span','date').text.strip() # date when it was posted"
   ]
  },
  {
   "cell_type": "code",
   "execution_count": null,
   "metadata": {},
   "outputs": [],
   "source": [
    "# this function contains all the above code and returns the tuple for a card\n",
    "def get_record(card):\n",
    "    company_name = card.find('span',{'class':'company'}).text.strip()\n",
    "    job_summary = card.find('div','summary').text.strip()\n",
    "    post_date = card.find('span','date').text.strip()\n",
    "    try:\n",
    "        salary_range = card.find('span','salaryText').text.strip()\n",
    "    except AttributeError:\n",
    "        salary_range = ''\n",
    "    \n",
    "    try:\n",
    "        location = card.find('div','location').text\n",
    "    except AttributeError:\n",
    "        location = ''\n",
    "    atag = card.h2.a\n",
    "    job_title = atag.get('title')\n",
    "    job_url = 'https://www.indeed.com'+atag.get('href')\n",
    "    \n",
    "    record = (job_title,company_name,salary_range,location,job_summary,post_date,job_url)\n",
    "    return record"
   ]
  },
  {
   "cell_type": "code",
   "execution_count": null,
   "metadata": {},
   "outputs": [],
   "source": [
    "# looping over all cards\n",
    "records = []\n",
    "\n",
    "for card in cards:\n",
    "    record = get_record(card)\n",
    "    records.append(record)"
   ]
  },
  {
   "cell_type": "code",
   "execution_count": null,
   "metadata": {},
   "outputs": [],
   "source": [
    "records[0]"
   ]
  },
  {
   "cell_type": "markdown",
   "metadata": {},
   "source": [
    "# getting on next page"
   ]
  },
  {
   "cell_type": "code",
   "execution_count": null,
   "metadata": {},
   "outputs": [],
   "source": [
    "# until now were on first page, now scraping all the pages that appear in search.\n",
    "records = []\n",
    "i=0\n",
    "url = get_url('python','Baroda')\n",
    "while True: \n",
    "    response = requests.get(url)\n",
    "    soup = BeautifulSoup(response.text,'html.parser')\n",
    "    cards = soup.find_all('div','jobsearch-SerpJobCard')\n",
    "    \n",
    "\n",
    "    for card in cards:\n",
    "        record = get_record(card)\n",
    "        records.append(record)\n",
    "    try:\n",
    "        # get link of next page from the array in page list  which takes us to the next page\n",
    "        # returns none if there is no new page \n",
    "        url = 'https://www.indeed.com'+soup.find('a',{'aria-label':'Next'}).get('href')\n",
    "    except AttributeError:\n",
    "        # exit loop if no page available\n",
    "        break"
   ]
  },
  {
   "cell_type": "code",
   "execution_count": null,
   "metadata": {},
   "outputs": [],
   "source": [
    "len(records)"
   ]
  },
  {
   "cell_type": "markdown",
   "metadata": {},
   "source": [
    "# saving scapred data"
   ]
  },
  {
   "cell_type": "code",
   "execution_count": null,
   "metadata": {},
   "outputs": [],
   "source": [
    "# getting all functions together\n",
    "# get url of indeed for specific position and location\n",
    "def get_url(position,location):\n",
    "    template = 'https://in.indeed.com/jobs?q={}&l={}'\n",
    "    url = template.format(position,location)\n",
    "    return url\n",
    "\n",
    "# get single card data scraped\n",
    "def get_record(card):\n",
    "    \"\"\"Scrape data from a single card on the page\"\"\"\n",
    "    # availabel  in span tag with class name company\n",
    "    company_name = card.find('span',{'class':'company'}).text.strip()\n",
    "    # sacraped from div tag have class summary\n",
    "    job_summary = card.find('div','summary').text.strip()\n",
    "    # scraped from span tag have calss date\n",
    "    post_date = card.find('span','date').text.strip()\n",
    "    \n",
    "    # span tag having class salaryText\n",
    "    try:\n",
    "        salary_range = card.find('span','salaryText').text.strip()\n",
    "    except AttributeError:\n",
    "        salary_range = ''\n",
    "    # div tag having class location\n",
    "    try:\n",
    "        location = card.find('div','location').text\n",
    "    except AttributeError:\n",
    "        location = ''\n",
    "    # getting a tag within h2 tag\n",
    "    atag = card.h2.a\n",
    "    # getting value of title in a tag of h2\n",
    "    job_title = atag.get('title')\n",
    "    # getting job url from same a tag\n",
    "    job_url = 'https://www.indeed.com'+atag.get('href')\n",
    "    \n",
    "    # forming a tuple \n",
    "    record = (job_title,company_name,salary_range,location,job_summary,post_date,job_url)\n",
    "    return record\n",
    "\n",
    "def main(position,location):\n",
    "    \"\"\"Scrape all the pages that appear on searching and save data in csv file\"\"\"\n",
    "    records = []\n",
    "    # initial url\n",
    "    url = get_url(position,location)\n",
    "    # extract data\n",
    "    while True:\n",
    "        \n",
    "        response = requests.get(url)\n",
    "        \n",
    "        # reads whole page\n",
    "        soup = BeautifulSoup(response.text,'html.parser')\n",
    "        # get all cards from div tag having class jobsearch-SerpJobCard\n",
    "        cards = soup.find_all('div','jobsearch-SerpJobCard')\n",
    "        \n",
    "        # looping over all cards to extract each card data\n",
    "        for card in cards:\n",
    "            record = get_record(card)\n",
    "            records.append(record)\n",
    "        # getting next page link\n",
    "        try:\n",
    "            # get link of next page from the array in page list  which takes us to the next page\n",
    "            # returns none if there is no new \n",
    "            url = 'https://www.indeed.com'+soup.find('a',{'aria-label':'Next'}).get('href')\n",
    "        except AttributeError:\n",
    "            break\n",
    "    # saving data\n",
    "    with open('results.csv','w',newline='',encoding='utf-8') as f:\n",
    "        writer = csv.writer(f)\n",
    "        writer.writerow(['job_title','company_name','salary_range','location','job_summary','post_date','job_url'])\n",
    "        writer.writerows(records)\n",
    "            "
   ]
  },
  {
   "cell_type": "code",
   "execution_count": null,
   "metadata": {},
   "outputs": [],
   "source": [
    "# running program\n",
    "main('python','Baroda')"
   ]
  },
  {
   "cell_type": "code",
   "execution_count": null,
   "metadata": {},
   "outputs": [],
   "source": []
  }
 ],
 "metadata": {
  "kernelspec": {
   "display_name": "Python 3",
   "language": "python",
   "name": "python3"
  },
  "language_info": {
   "codemirror_mode": {
    "name": "ipython",
    "version": 3
   },
   "file_extension": ".py",
   "mimetype": "text/x-python",
   "name": "python",
   "nbconvert_exporter": "python",
   "pygments_lexer": "ipython3",
   "version": "3.8.5"
  }
 },
 "nbformat": 4,
 "nbformat_minor": 4
}
